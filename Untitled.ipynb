{
 "cells": [
  {
   "cell_type": "markdown",
   "id": "8fb3b29d-e021-41e3-bc30-6d093c5e7dd1",
   "metadata": {},
   "source": [
    " Libraries of computer vision\n",
    " 1. Scikit image              ...detecting feature, filtering\n",
    " 2. PIL                       ...processing an image, reading, support satellite images\n",
    " 3. OpenCV                    ...image reading\n",
    " 4. Mahotas                   ...used for speeding up the process\n",
    " 5. Scientific Python(Scipy)  ...for complicated mathematical problems\n",
    " 6. Numerical Python(Numpy)   ...image processing using arrays"
   ]
  },
  {
   "cell_type": "code",
   "execution_count": null,
   "id": "d1367d1e-aaea-425d-a4f6-4f1589289e37",
   "metadata": {},
   "outputs": [],
   "source": []
  }
 ],
 "metadata": {
  "kernelspec": {
   "display_name": "Python 3 (ipykernel)",
   "language": "python",
   "name": "python3"
  },
  "language_info": {
   "codemirror_mode": {
    "name": "ipython",
    "version": 3
   },
   "file_extension": ".py",
   "mimetype": "text/x-python",
   "name": "python",
   "nbconvert_exporter": "python",
   "pygments_lexer": "ipython3",
   "version": "3.12.3"
  }
 },
 "nbformat": 4,
 "nbformat_minor": 5
}
